{
 "cells": [
  {
   "cell_type": "markdown",
   "metadata": {},
   "source": [
    "# Remove double quotes \" from .csv files, "
   ]
  },
  {
   "cell_type": "markdown",
   "metadata": {},
   "source": [
    "Conditions: \n",
    "- Input file - database with genotype - fitness pair of values; \n",
    "- There's no heading"
   ]
  },
  {
   "cell_type": "code",
   "execution_count": 1,
   "metadata": {},
   "outputs": [],
   "source": [
    "# Replace double quotes in one specified file\n",
    "\n",
    "# File = database with sequences, no header\n",
    "#####   Variables   ###############################\n",
    "directory = 'Databases'\n",
    "filename = 'GAL4'\n",
    "extension = '.csv'\n",
    "###################################################\n",
    "\n",
    "if directory != '':\n",
    "\tfullpath_input = directory + '/' + filename + extension\n",
    "\tfullpath_proc = directory + '/' + filename + '_proc' + extension\n",
    "elif directory == '':\n",
    "\tfullpath_input = filename + extension\n",
    "\tfullpath_proc = filename + '_proc' + extension\n",
    "with open(fullpath_input, 'r') as input, open(fullpath_proc, 'w') as output:\n",
    "\t# input.readline()\n",
    "\toutput.write('Genotype\\tFitness' + '\\n')\n",
    "\tfor line in input:\n",
    "\t\tline2 = line.replace('\"', '')\n",
    "\t\toutput.write(line2)"
   ]
  },
  {
   "cell_type": "code",
   "execution_count": 22,
   "metadata": {},
   "outputs": [],
   "source": [
    "# Replace double quotes in many .csv files\n",
    "import os\n",
    "\n",
    "#####   Variables   ###############################\n",
    "directory = 'Databases'\n",
    "###################################################\n",
    "\n",
    "for file in os.listdir(directory):\n",
    "\tif '.csv' in file:\n",
    "\t\t# print('.'.split(str(filename)))\n",
    "\t\tfile_noext = file[:-4]\n",
    "\t\tfilename = file_noext\n",
    "\t\textension = '.csv'\n",
    "\t\t###################################################\n",
    "\n",
    "\t\tif directory != '':\n",
    "\t\t\tfullpath_input = directory + '/' + filename + extension\n",
    "\t\t\tfullpath_proc = directory + '/' + filename + '_proc' + extension\n",
    "\t\telif directory == '':\n",
    "\t\t\tfullpath_input = filename + extension\n",
    "\t\t\tfullpath_proc = filename + '_proc' + extension\n",
    "\t\twith open(fullpath_input, 'r') as input, open(fullpath_proc, 'w') as output:\n",
    "\t\t\t# input.readline()\n",
    "\t\t\toutput.write('Genotype\\tFitness' + '\\n')\n",
    "\t\t\tfor line in input:\n",
    "\t\t\t\tline2 = line.replace('\"', '')\n",
    "\t\t\t\toutput.write(line2)"
   ]
  },
  {
   "cell_type": "markdown",
   "metadata": {},
   "source": [
    "# Convert format: database -> hypercube input"
   ]
  },
  {
   "cell_type": "code",
   "execution_count": 3,
   "metadata": {},
   "outputs": [],
   "source": [
    "# If you have file with mutations in format 'A15K', and you need format for HypercubeME - '15K' - then run this script\n",
    "# FROM: database format:     E106*:A110K \\t  0.146\n",
    "# TO: HypercubeME format:    106*:110K   \\t  0.146\n",
    "# skips header\n",
    "\n",
    "with open('Databases/GAL4/GAL4_proc.csv', 'r') as f, open('Databases/GAL4/GAL4_proc2.txt', 'w') as output:\n",
    "\tf.readline()\n",
    "\toutput.write('Genotype\\tFitness' + '\\n')\n",
    "\tfor line in f:\n",
    "\t\ttemp = line.split(\"\\n\")[0] # Remove newlines\n",
    "\t\tgenotype = temp.split(\"\\t\")[0] \n",
    "\t\tfitness = temp.split(\"\\t\")[1]\n",
    "\t\t# print( genotype )\n",
    "\t\tmuts_list = genotype.split(\":\")\n",
    "\t\tmuts_list_upd = []\n",
    "\t\tfor item in muts_list:\n",
    "\t\t\tmuts_list_upd.append(item[1:])\n",
    "\t\toutput.write(':'.join(muts_list_upd) + '\\t' + fitness + '\\n')\n",
    "\n",
    "\t\t# print(muts_list_upd)\n"
   ]
  },
  {
   "cell_type": "code",
   "execution_count": 33,
   "metadata": {},
   "outputs": [],
   "source": [
    "# convert formats of many files\n",
    "# skips header\n",
    "import os\n",
    "\n",
    "#####   Variables   ###############################\n",
    "directory = 'Databases/databases2'\n",
    "# filenoext = 'CCDDB'\n",
    "extension = '.csv'\n",
    "###################################################\n",
    "\n",
    "\n",
    "for file in os.listdir(directory):\n",
    "\tfilenoext = file[:-4]\n",
    "\tif '_proc' in file:\n",
    "\t\tfullpath_input = directory + '/' + filenoext + extension\n",
    "\t\tfullpath_proc = directory + '/' + filenoext + '2' + '.txt'\n",
    "\telif '_proc' not in file:\n",
    "\t\tfullpath_input = directory + '/' + filenoext + extension\n",
    "\t\tfullpath_proc = directory + '/' + filenoext + '_proc2' + '.txt'\n",
    "\n",
    "\twith open(fullpath_input, 'r') as f, open(fullpath_proc, 'w') as output:\n",
    "\t\tf.readline()\n",
    "\t\toutput.write('Genotype\\tFitness' + '\\n')\n",
    "\t\tfor line in f:\n",
    "\t\t\ttemp = line.split(\"\\n\")[0] # Remove newlines\n",
    "\t\t\tgenotype = temp.split(\"\\t\")[0] \n",
    "\t\t\tfitness = temp.split(\"\\t\")[1]\n",
    "\t\t\t# print( genotype )\n",
    "\t\t\tmuts_list = genotype.split(\":\")\n",
    "\t\t\tmuts_list_upd = []\n",
    "\t\t\tfor item in muts_list:\n",
    "\t\t\t\tmuts_list_upd.append(item[1:])\n",
    "\t\t\toutput.write(':'.join(muts_list_upd) + '\\t' + fitness + '\\n')\n",
    "\n",
    "\n",
    "\n",
    "\n",
    "\n",
    "\n"
   ]
  }
 ],
 "metadata": {
  "interpreter": {
   "hash": "1bc81a7310222af0af7ed6be5dba3d911a1c9b8aee41598a695375ef1a531c1e"
  },
  "kernelspec": {
   "display_name": "Python 3.9.6 64-bit",
   "name": "python3"
  },
  "language_info": {
   "codemirror_mode": {
    "name": "ipython",
    "version": 3
   },
   "file_extension": ".py",
   "mimetype": "text/x-python",
   "name": "python",
   "nbconvert_exporter": "python",
   "pygments_lexer": "ipython3",
   "version": "3.9.6"
  },
  "orig_nbformat": 4
 },
 "nbformat": 4,
 "nbformat_minor": 2
}
